{
 "cells": [
  {
   "cell_type": "markdown",
   "metadata": {},
   "source": [
    "# Plot Rouge metrics"
   ]
  },
  {
   "cell_type": "code",
   "execution_count": 13,
   "metadata": {},
   "outputs": [
    {
     "data": {
      "text/plain": [
       "True"
      ]
     },
     "execution_count": 13,
     "metadata": {},
     "output_type": "execute_result"
    }
   ],
   "source": [
    "from dotenv import load_dotenv\n",
    "import matplotlib.pyplot as plt\n",
    "from pathlib import Path\n",
    "import json\n",
    "import pandas as pd\n",
    "\n",
    "import sys\n",
    "\n",
    "sys.path.append(\"..\")\n",
    "\n",
    "from src.data.dataloader import PromptLoader\n",
    "from src.utils.eval_metric import eval_gigaword\n",
    "\n",
    "load_dotenv()"
   ]
  },
  {
   "cell_type": "markdown",
   "metadata": {},
   "source": [
    "# 1. Gigaword set"
   ]
  },
  {
   "cell_type": "code",
   "execution_count": 7,
   "metadata": {},
   "outputs": [
    {
     "name": "stdout",
     "output_type": "stream",
     "text": [
      "Loading dataset\n"
     ]
    }
   ],
   "source": [
    "print(\"Loading dataset\")\n",
    "pl = PromptLoader()"
   ]
  },
  {
   "cell_type": "code",
   "execution_count": 9,
   "metadata": {},
   "outputs": [],
   "source": [
    "test_data = pl.load_testdata(\"gigaword\")"
   ]
  },
  {
   "cell_type": "code",
   "execution_count": 54,
   "metadata": {},
   "outputs": [
    {
     "name": "stdout",
     "output_type": "stream",
     "text": [
      "Processing num_examples_14\n",
      "Processing num_examples_10\n",
      "Processing num_examples_6\n",
      "Processing num_examples_12\n",
      "Processing num_examples_0\n",
      "Processing num_examples_4\n",
      "Processing num_examples_2\n",
      "Processing num_examples_5\n",
      "Processing num_examples_8\n",
      "Processing num_examples_15\n"
     ]
    }
   ],
   "source": [
    "# Define which folders to use\n",
    "dataset_folder = Path(\"../experiments/mistral-7b/eval_data_gigaword/incontext_data_gigaword/\")\n",
    "\n",
    "# Process the folders to extract the evaluation metric\n",
    "\n",
    "results = [] # Store results as a list of dicts\n",
    "\n",
    "for folder in dataset_folder.iterdir():\n",
    "    if folder.is_dir():\n",
    "        print(f\"Processing {folder.name}\")\n",
    "        # Load the predictions in predictions.json\n",
    "        try:\n",
    "            predictions = json.load(open(folder / \"predictions.json\"))\n",
    "        except FileNotFoundError:\n",
    "            print(f\"Skipping {folder.name} as predictions.json not found\")\n",
    "            continue\n",
    "        # Folder name is of the form \"num_examples_{NUM}\"\n",
    "        num_examples = int(folder.name.split(\"_\")[-1])\n",
    "\n",
    "        scores = eval_gigaword(predictions, test_data)\n",
    "        scores[\"num_examples\"] = num_examples\n",
    "\n",
    "        # Store the average length of the predictions\n",
    "        scores[\"avg_pred_length\"] = sum([len(x) for x in predictions]) / len(predictions)\n",
    "\n",
    "        results.append(scores)"
   ]
  },
  {
   "cell_type": "code",
   "execution_count": 55,
   "metadata": {},
   "outputs": [
    {
     "data": {
      "text/html": [
       "<div>\n",
       "<style scoped>\n",
       "    .dataframe tbody tr th:only-of-type {\n",
       "        vertical-align: middle;\n",
       "    }\n",
       "\n",
       "    .dataframe tbody tr th {\n",
       "        vertical-align: top;\n",
       "    }\n",
       "\n",
       "    .dataframe thead th {\n",
       "        text-align: right;\n",
       "    }\n",
       "</style>\n",
       "<table border=\"1\" class=\"dataframe\">\n",
       "  <thead>\n",
       "    <tr style=\"text-align: right;\">\n",
       "      <th></th>\n",
       "      <th>rouge1</th>\n",
       "      <th>rouge2</th>\n",
       "      <th>rougeL</th>\n",
       "      <th>rougeLsum</th>\n",
       "      <th>num_examples</th>\n",
       "      <th>avg_pred_length</th>\n",
       "    </tr>\n",
       "  </thead>\n",
       "  <tbody>\n",
       "    <tr>\n",
       "      <th>4</th>\n",
       "      <td>0.184194</td>\n",
       "      <td>0.050959</td>\n",
       "      <td>0.156835</td>\n",
       "      <td>0.156756</td>\n",
       "      <td>0</td>\n",
       "      <td>204.738596</td>\n",
       "    </tr>\n",
       "    <tr>\n",
       "      <th>6</th>\n",
       "      <td>0.193742</td>\n",
       "      <td>0.057752</td>\n",
       "      <td>0.165911</td>\n",
       "      <td>0.165777</td>\n",
       "      <td>2</td>\n",
       "      <td>198.406458</td>\n",
       "    </tr>\n",
       "    <tr>\n",
       "      <th>5</th>\n",
       "      <td>0.195547</td>\n",
       "      <td>0.058626</td>\n",
       "      <td>0.167988</td>\n",
       "      <td>0.167724</td>\n",
       "      <td>4</td>\n",
       "      <td>199.727832</td>\n",
       "    </tr>\n",
       "    <tr>\n",
       "      <th>7</th>\n",
       "      <td>0.194128</td>\n",
       "      <td>0.058535</td>\n",
       "      <td>0.167129</td>\n",
       "      <td>0.166980</td>\n",
       "      <td>5</td>\n",
       "      <td>199.810354</td>\n",
       "    </tr>\n",
       "    <tr>\n",
       "      <th>2</th>\n",
       "      <td>0.192556</td>\n",
       "      <td>0.057897</td>\n",
       "      <td>0.166406</td>\n",
       "      <td>0.166139</td>\n",
       "      <td>6</td>\n",
       "      <td>204.752435</td>\n",
       "    </tr>\n",
       "  </tbody>\n",
       "</table>\n",
       "</div>"
      ],
      "text/plain": [
       "     rouge1    rouge2    rougeL  rougeLsum  num_examples  avg_pred_length\n",
       "4  0.184194  0.050959  0.156835   0.156756             0       204.738596\n",
       "6  0.193742  0.057752  0.165911   0.165777             2       198.406458\n",
       "5  0.195547  0.058626  0.167988   0.167724             4       199.727832\n",
       "7  0.194128  0.058535  0.167129   0.166980             5       199.810354\n",
       "2  0.192556  0.057897  0.166406   0.166139             6       204.752435"
      ]
     },
     "execution_count": 55,
     "metadata": {},
     "output_type": "execute_result"
    }
   ],
   "source": [
    "df = pd.DataFrame.from_records(results)\n",
    "df = df.sort_values(\"num_examples\")\n",
    "df.head()"
   ]
  },
  {
   "cell_type": "code",
   "execution_count": 56,
   "metadata": {},
   "outputs": [
    {
     "data": {
      "image/png": "[encoded data removed]",
      "text/plain": [
       "<Figure size 1000x500 with 1 Axes>"
      ]
     },
     "metadata": {},
     "output_type": "display_data"
    }
   ],
   "source": [
    "# Plot the results\n",
    "\n",
    "fig, ax = plt.subplots(figsize=(10, 5))\n",
    "ax.plot(df[\"num_examples\"], df[\"rouge1\"], label=\"rouge1\")\n",
    "ax.plot(df[\"num_examples\"], df[\"rouge2\"], label=\"rouge2\")\n",
    "ax.plot(df[\"num_examples\"], df[\"rougeL\"], label=\"rougeL\")\n",
    "ax.plot(df[\"num_examples\"], df[\"avg_pred_length\"] / 1000, label=\"avg_pred_length / 1000\")\n",
    "ax.set_xlabel(\"Number of examples\")\n",
    "ax.set_ylabel(\"ROUGE score\")\n",
    "ax.legend()\n",
    "ax.grid()\n",
    "fig.savefig(\"gigaword.png\")\n",
    "plt.show()"
   ]
  },
  {
   "cell_type": "code",
   "execution_count": 43,
   "metadata": {},
   "outputs": [],
   "source": [
    "predictions_4 = json.load(open(dataset_folder / \"num_examples_4\" / \"predictions.json\"))\n",
    "predictions_15 = json.load(open(dataset_folder / \"num_examples_15\" / \"predictions.json\"))"
   ]
  },
  {
   "cell_type": "code",
   "execution_count": 44,
   "metadata": {},
   "outputs": [
    {
     "name": "stdout",
     "output_type": "stream",
     "text": [
      "389669\n",
      "462917\n"
     ]
    }
   ],
   "source": [
    "print(sum([len(s) for s in predictions_4]))\n",
    "print(sum([len(s) for s in predictions_15]))\n"
   ]
  },
  {
   "cell_type": "code",
   "execution_count": 46,
   "metadata": {},
   "outputs": [
    {
     "data": {
      "text/plain": [
       "'The Sri Lankan government announced the closure of government schools in the north of the country on Wednesday due to an escalating military campaign against Tamil separatists.'"
      ]
     },
     "execution_count": 46,
     "metadata": {},
     "output_type": "execute_result"
    }
   ],
   "source": [
    "predictions_4[1]"
   ]
  }
 ],
 "metadata": {
  "kernelspec": {
   "display_name": "inctxt",
   "language": "python",
   "name": "python3"
  },
  "language_info": {
   "codemirror_mode": {
    "name": "ipython",
    "version": 3
   },
   "file_extension": ".py",
   "mimetype": "text/x-python",
   "name": "python",
   "nbconvert_exporter": "python",
   "pygments_lexer": "ipython3",
   "version": "3.10.4"
  }
 },
 "nbformat": 4,
 "nbformat_minor": 2
}
